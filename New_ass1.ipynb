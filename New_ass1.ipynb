{
  "nbformat": 4,
  "nbformat_minor": 0,
  "metadata": {
    "colab": {
      "provenance": []
    },
    "kernelspec": {
      "name": "python3",
      "display_name": "Python 3"
    },
    "language_info": {
      "name": "python"
    }
  },
  "cells": [
    {
      "cell_type": "code",
      "execution_count": 1,
      "metadata": {
        "id": "_1vrQ58xZpqb"
      },
      "outputs": [],
      "source": [
        "import math"
      ]
    },
    {
      "cell_type": "code",
      "source": [
        "#Que 1"
      ],
      "metadata": {
        "id": "dI3yZkgbZ0YO"
      },
      "execution_count": null,
      "outputs": []
    },
    {
      "cell_type": "code",
      "source": [
        "radius=float(input(\"enter the radius:\"))\n",
        "area=math.pi*radius**2\n",
        "print(f\"Area of circle is {area:.2f}\")"
      ],
      "metadata": {
        "colab": {
          "base_uri": "https://localhost:8080/"
        },
        "id": "yt0tT2ASZ3VP",
        "outputId": "2a478d91-f5bd-41e0-9cd8-b2cf146b2c35"
      },
      "execution_count": 2,
      "outputs": [
        {
          "output_type": "stream",
          "name": "stdout",
          "text": [
            "enter the radius:3\n",
            "Area of circle is 28.27\n"
          ]
        }
      ]
    },
    {
      "cell_type": "code",
      "source": [
        "#Que 2"
      ],
      "metadata": {
        "id": "6e2nEC1GZ97J"
      },
      "execution_count": null,
      "outputs": []
    },
    {
      "cell_type": "code",
      "source": [
        "name = input(\"enter the student's name:\")\n",
        "roll_number = input(\"enter the student's roll number:\")\n",
        "mark = input(\"enter the student's mark:\")\n",
        "print(\"student details:\")\n",
        "print(f\"name:{name}\")\n",
        "print(f\"roll number:{roll_number}\")\n",
        "print(f\"mark:{mark}\")"
      ],
      "metadata": {
        "colab": {
          "base_uri": "https://localhost:8080/"
        },
        "id": "M9jXGZPraqX6",
        "outputId": "0e9fd9ee-6382-4e18-9f7e-0bc89cca5eff"
      },
      "execution_count": 3,
      "outputs": [
        {
          "output_type": "stream",
          "name": "stdout",
          "text": [
            "enter the student's name:anisha\n",
            "enter the student's roll number:21\n",
            "enter the student's mark:78\n",
            "student details:\n",
            "name:anisha\n",
            "roll number:21\n",
            "mark:78\n"
          ]
        }
      ]
    },
    {
      "cell_type": "code",
      "source": [
        "#Que 3"
      ],
      "metadata": {
        "id": "ym3HpzoDawZx"
      },
      "execution_count": null,
      "outputs": []
    },
    {
      "cell_type": "code",
      "source": [
        "def find_largest(numbers):\n",
        "  largest=max(numbers)\n",
        "  return largest\n",
        "numbers=[12,3,47,10]\n",
        "largest_number=find_largest(numbers)\n",
        "print(f\"{largest_number}is the largest number. \")"
      ],
      "metadata": {
        "colab": {
          "base_uri": "https://localhost:8080/"
        },
        "id": "tbsxgbL0ayjd",
        "outputId": "8735200c-c3b6-4a06-d436-33ea9bf1d996"
      },
      "execution_count": 4,
      "outputs": [
        {
          "output_type": "stream",
          "name": "stdout",
          "text": [
            "47is the largest number. \n"
          ]
        }
      ]
    },
    {
      "cell_type": "code",
      "source": [
        "#Que 4"
      ],
      "metadata": {
        "id": "s-vdRPU5bWJq"
      },
      "execution_count": null,
      "outputs": []
    },
    {
      "cell_type": "code",
      "source": [
        "previous_num=0\n",
        "for current_num in range(1,11):\n",
        "  sum_num=current_num+previous_num\n",
        "  print(f\"current number{current_num}previous number{previous_num}sum:{sum_num}\")\n",
        "  previous_num=current_num"
      ],
      "metadata": {
        "colab": {
          "base_uri": "https://localhost:8080/"
        },
        "id": "iM8nBY1dbYtb",
        "outputId": "b29d39ba-4c9e-471a-b959-3b1c23b7d3af"
      },
      "execution_count": 5,
      "outputs": [
        {
          "output_type": "stream",
          "name": "stdout",
          "text": [
            "current number1previous number0sum:1\n",
            "current number2previous number1sum:3\n",
            "current number3previous number2sum:5\n",
            "current number4previous number3sum:7\n",
            "current number5previous number4sum:9\n",
            "current number6previous number5sum:11\n",
            "current number7previous number6sum:13\n",
            "current number8previous number7sum:15\n",
            "current number9previous number8sum:17\n",
            "current number10previous number9sum:19\n"
          ]
        }
      ]
    },
    {
      "cell_type": "code",
      "source": [
        "#Que 5"
      ],
      "metadata": {
        "id": "eYI_ufrmbngG"
      },
      "execution_count": null,
      "outputs": []
    },
    {
      "cell_type": "code",
      "source": [
        "numbers=[10,20,33,46,55]\n",
        "divisible_by_5=[num for num in numbers if num %5 == 0]\n",
        "print(divisible_by_5)"
      ],
      "metadata": {
        "colab": {
          "base_uri": "https://localhost:8080/"
        },
        "id": "JQvkz_QYbqXI",
        "outputId": "250f6a02-7607-432d-bb24-4e137301e5f3"
      },
      "execution_count": 6,
      "outputs": [
        {
          "output_type": "stream",
          "name": "stdout",
          "text": [
            "[10, 20, 55]\n"
          ]
        }
      ]
    },
    {
      "cell_type": "code",
      "source": [
        "#Que 6"
      ],
      "metadata": {
        "id": "qDTJy9Btcw5a"
      },
      "execution_count": null,
      "outputs": []
    },
    {
      "cell_type": "code",
      "source": [
        "def is_prime(n):\n",
        "  if n <=1:\n",
        "     return False\n",
        "  for i in range(2,int(n**0.5)+1):\n",
        "     if n % i == 0:\n",
        "       return False\n",
        "  return True\n",
        "num=int(input(\"enter the number:\"))\n",
        "if is_prime(num):\n",
        "  print(f\"{num} is a prime number\")\n",
        "else:\n",
        "  print(f\"{num} is not a prime number\")"
      ],
      "metadata": {
        "colab": {
          "base_uri": "https://localhost:8080/"
        },
        "id": "b4708dutczDj",
        "outputId": "baa8995d-d0bd-4790-90eb-6a8f2702ff0d"
      },
      "execution_count": 7,
      "outputs": [
        {
          "output_type": "stream",
          "name": "stdout",
          "text": [
            "enter the number:3\n",
            "3 is a prime number\n"
          ]
        }
      ]
    },
    {
      "cell_type": "code",
      "source": [
        "#Que 7"
      ],
      "metadata": {
        "id": "CcejFMSTe_c_"
      },
      "execution_count": null,
      "outputs": []
    },
    {
      "cell_type": "code",
      "source": [
        "numbers=[10,40,30,70]\n",
        "reversed_numbers = numbers[::-1]\n",
        "print(reversed_numbers)"
      ],
      "metadata": {
        "colab": {
          "base_uri": "https://localhost:8080/"
        },
        "id": "Lmn4pB2XhLcb",
        "outputId": "e0e44fb3-be62-4797-f0c8-4dc5c149a83f"
      },
      "execution_count": 8,
      "outputs": [
        {
          "output_type": "stream",
          "name": "stdout",
          "text": [
            "[70, 30, 40, 10]\n"
          ]
        }
      ]
    },
    {
      "cell_type": "code",
      "source": [
        "#Que 8"
      ],
      "metadata": {
        "id": "sCYE-9UkhjhT"
      },
      "execution_count": null,
      "outputs": []
    },
    {
      "cell_type": "code",
      "source": [
        "for i in range(1,6):\n",
        "  print(' '*(5-i)+'*'*i)"
      ],
      "metadata": {
        "colab": {
          "base_uri": "https://localhost:8080/"
        },
        "id": "gGebxZC4hmOK",
        "outputId": "2e6cbac2-b982-4bcf-fb72-6de087732ea9"
      },
      "execution_count": 9,
      "outputs": [
        {
          "output_type": "stream",
          "name": "stdout",
          "text": [
            "    *\n",
            "   **\n",
            "  ***\n",
            " ****\n",
            "*****\n"
          ]
        }
      ]
    },
    {
      "cell_type": "code",
      "source": [
        "#Que 9"
      ],
      "metadata": {
        "id": "UwGU6LSviMfw"
      },
      "execution_count": null,
      "outputs": []
    },
    {
      "cell_type": "code",
      "source": [
        "num1,num2,num3=34,12,7\n",
        "print(max(num1,num2,num3))"
      ],
      "metadata": {
        "colab": {
          "base_uri": "https://localhost:8080/"
        },
        "id": "GZWMN3BNiPY1",
        "outputId": "b5bb065d-2df1-46d7-af4c-9422f7273495"
      },
      "execution_count": 10,
      "outputs": [
        {
          "output_type": "stream",
          "name": "stdout",
          "text": [
            "34\n"
          ]
        }
      ]
    },
    {
      "cell_type": "code",
      "source": [
        "#Que 10"
      ],
      "metadata": {
        "id": "CBiOh3q8jF7T"
      },
      "execution_count": null,
      "outputs": []
    },
    {
      "cell_type": "code",
      "source": [
        "for i in range(1,6):\n",
        "  for j in range(i):\n",
        "    print('*', end=' ')\n",
        "  print()\n",
        "for i in range(4,0,-1):\n",
        "  for j in range(i):\n",
        "    print('*', end=' ')\n",
        "  print()"
      ],
      "metadata": {
        "colab": {
          "base_uri": "https://localhost:8080/"
        },
        "id": "690OyM1IjJEi",
        "outputId": "a848f891-9e8a-4284-ee60-a70b20f75864"
      },
      "execution_count": 11,
      "outputs": [
        {
          "output_type": "stream",
          "name": "stdout",
          "text": [
            "* \n",
            "* * \n",
            "* * * \n",
            "* * * * \n",
            "* * * * * \n",
            "* * * * \n",
            "* * * \n",
            "* * \n",
            "* \n"
          ]
        }
      ]
    }
  ]
}